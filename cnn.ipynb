{
 "cells": [
  {
   "cell_type": "code",
   "execution_count": 3,
   "metadata": {},
   "outputs": [],
   "source": [
    "import pandas as pd\n",
    "import matplotlib as plt\n",
    "import seaborn as sns"
   ]
  },
  {
   "cell_type": "code",
   "execution_count": 4,
   "metadata": {},
   "outputs": [],
   "source": [
    "train=pd.read_csv('trainset.csv')\n"
   ]
  },
  {
   "cell_type": "code",
   "execution_count": 5,
   "metadata": {},
   "outputs": [],
   "source": [
    "test=pd.read_csv('testset.csv')"
   ]
  },
  {
   "cell_type": "code",
   "execution_count": 6,
   "metadata": {},
   "outputs": [
    {
     "name": "stdout",
     "output_type": "stream",
     "text": [
      "<class 'pandas.core.frame.DataFrame'>\n",
      "RangeIndex: 8000 entries, 0 to 7999\n",
      "Columns: 1614 entries, cls to mZagreb2\n",
      "dtypes: float64(1276), int64(338)\n",
      "memory usage: 98.5 MB\n"
     ]
    }
   ],
   "source": [
    "train.info()"
   ]
  },
  {
   "cell_type": "code",
   "execution_count": 7,
   "metadata": {},
   "outputs": [
    {
     "name": "stdout",
     "output_type": "stream",
     "text": [
      "<class 'pandas.core.frame.DataFrame'>\n",
      "RangeIndex: 2000 entries, 0 to 1999\n",
      "Columns: 1614 entries, cls to mZagreb2\n",
      "dtypes: float64(1273), int64(341)\n",
      "memory usage: 24.6 MB\n"
     ]
    }
   ],
   "source": [
    "test.info()"
   ]
  },
  {
   "cell_type": "code",
   "execution_count": 9,
   "metadata": {},
   "outputs": [
    {
     "data": {
      "text/html": [
       "<div>\n",
       "<style scoped>\n",
       "    .dataframe tbody tr th:only-of-type {\n",
       "        vertical-align: middle;\n",
       "    }\n",
       "\n",
       "    .dataframe tbody tr th {\n",
       "        vertical-align: top;\n",
       "    }\n",
       "\n",
       "    .dataframe thead th {\n",
       "        text-align: right;\n",
       "    }\n",
       "</style>\n",
       "<table border=\"1\" class=\"dataframe\">\n",
       "  <thead>\n",
       "    <tr style=\"text-align: right;\">\n",
       "      <th></th>\n",
       "      <th>cls</th>\n",
       "      <th>ABC</th>\n",
       "      <th>ABCGG</th>\n",
       "      <th>nAcid</th>\n",
       "      <th>nBase</th>\n",
       "      <th>SpAbs_A</th>\n",
       "      <th>SpMax_A</th>\n",
       "      <th>SpDiam_A</th>\n",
       "      <th>SpAD_A</th>\n",
       "      <th>SpMAD_A</th>\n",
       "      <th>...</th>\n",
       "      <th>SRW10</th>\n",
       "      <th>TSRW10</th>\n",
       "      <th>MW</th>\n",
       "      <th>AMW</th>\n",
       "      <th>WPath</th>\n",
       "      <th>WPol</th>\n",
       "      <th>Zagreb1</th>\n",
       "      <th>Zagreb2</th>\n",
       "      <th>mZagreb1</th>\n",
       "      <th>mZagreb2</th>\n",
       "    </tr>\n",
       "  </thead>\n",
       "  <tbody>\n",
       "    <tr>\n",
       "      <th>0</th>\n",
       "      <td>1</td>\n",
       "      <td>NaN</td>\n",
       "      <td>NaN</td>\n",
       "      <td>0</td>\n",
       "      <td>0</td>\n",
       "      <td>25.001104</td>\n",
       "      <td>2.501652</td>\n",
       "      <td>4.923679</td>\n",
       "      <td>25.001104</td>\n",
       "      <td>1.250055</td>\n",
       "      <td>...</td>\n",
       "      <td>9.918524</td>\n",
       "      <td>67.526731</td>\n",
       "      <td>284.075684</td>\n",
       "      <td>8.877365</td>\n",
       "      <td>764</td>\n",
       "      <td>32</td>\n",
       "      <td>100</td>\n",
       "      <td>119</td>\n",
       "      <td>7.777778</td>\n",
       "      <td>4.666667</td>\n",
       "    </tr>\n",
       "    <tr>\n",
       "      <th>1</th>\n",
       "      <td>1</td>\n",
       "      <td>NaN</td>\n",
       "      <td>NaN</td>\n",
       "      <td>0</td>\n",
       "      <td>0</td>\n",
       "      <td>20.274271</td>\n",
       "      <td>2.409184</td>\n",
       "      <td>4.779725</td>\n",
       "      <td>20.274271</td>\n",
       "      <td>1.267142</td>\n",
       "      <td>...</td>\n",
       "      <td>9.636588</td>\n",
       "      <td>61.986524</td>\n",
       "      <td>226.038985</td>\n",
       "      <td>9.827782</td>\n",
       "      <td>429</td>\n",
       "      <td>23</td>\n",
       "      <td>82</td>\n",
       "      <td>96</td>\n",
       "      <td>6.166667</td>\n",
       "      <td>3.583333</td>\n",
       "    </tr>\n",
       "    <tr>\n",
       "      <th>2</th>\n",
       "      <td>1</td>\n",
       "      <td>NaN</td>\n",
       "      <td>NaN</td>\n",
       "      <td>0</td>\n",
       "      <td>0</td>\n",
       "      <td>23.679070</td>\n",
       "      <td>2.528665</td>\n",
       "      <td>4.931112</td>\n",
       "      <td>23.679070</td>\n",
       "      <td>1.392886</td>\n",
       "      <td>...</td>\n",
       "      <td>10.022647</td>\n",
       "      <td>65.026165</td>\n",
       "      <td>223.074562</td>\n",
       "      <td>8.579791</td>\n",
       "      <td>461</td>\n",
       "      <td>29</td>\n",
       "      <td>98</td>\n",
       "      <td>121</td>\n",
       "      <td>3.416667</td>\n",
       "      <td>3.638889</td>\n",
       "    </tr>\n",
       "    <tr>\n",
       "      <th>3</th>\n",
       "      <td>1</td>\n",
       "      <td>NaN</td>\n",
       "      <td>NaN</td>\n",
       "      <td>0</td>\n",
       "      <td>0</td>\n",
       "      <td>27.774585</td>\n",
       "      <td>2.557762</td>\n",
       "      <td>4.967131</td>\n",
       "      <td>27.774585</td>\n",
       "      <td>1.388729</td>\n",
       "      <td>...</td>\n",
       "      <td>10.250228</td>\n",
       "      <td>70.773493</td>\n",
       "      <td>266.069142</td>\n",
       "      <td>8.868971</td>\n",
       "      <td>735</td>\n",
       "      <td>35</td>\n",
       "      <td>120</td>\n",
       "      <td>150</td>\n",
       "      <td>3.888889</td>\n",
       "      <td>4.166667</td>\n",
       "    </tr>\n",
       "    <tr>\n",
       "      <th>4</th>\n",
       "      <td>1</td>\n",
       "      <td>NaN</td>\n",
       "      <td>NaN</td>\n",
       "      <td>0</td>\n",
       "      <td>0</td>\n",
       "      <td>39.613943</td>\n",
       "      <td>2.477563</td>\n",
       "      <td>4.835703</td>\n",
       "      <td>39.613943</td>\n",
       "      <td>1.320465</td>\n",
       "      <td>...</td>\n",
       "      <td>10.233043</td>\n",
       "      <td>79.537169</td>\n",
       "      <td>415.183067</td>\n",
       "      <td>7.548783</td>\n",
       "      <td>2674</td>\n",
       "      <td>45</td>\n",
       "      <td>156</td>\n",
       "      <td>182</td>\n",
       "      <td>8.500000</td>\n",
       "      <td>6.694444</td>\n",
       "    </tr>\n",
       "  </tbody>\n",
       "</table>\n",
       "<p>5 rows × 1614 columns</p>\n",
       "</div>"
      ],
      "text/plain": [
       "   cls  ABC  ABCGG  nAcid  nBase    SpAbs_A   SpMax_A  SpDiam_A     SpAD_A  \\\n",
       "0    1  NaN    NaN      0      0  25.001104  2.501652  4.923679  25.001104   \n",
       "1    1  NaN    NaN      0      0  20.274271  2.409184  4.779725  20.274271   \n",
       "2    1  NaN    NaN      0      0  23.679070  2.528665  4.931112  23.679070   \n",
       "3    1  NaN    NaN      0      0  27.774585  2.557762  4.967131  27.774585   \n",
       "4    1  NaN    NaN      0      0  39.613943  2.477563  4.835703  39.613943   \n",
       "\n",
       "    SpMAD_A  ...      SRW10     TSRW10          MW       AMW  WPath  WPol  \\\n",
       "0  1.250055  ...   9.918524  67.526731  284.075684  8.877365    764    32   \n",
       "1  1.267142  ...   9.636588  61.986524  226.038985  9.827782    429    23   \n",
       "2  1.392886  ...  10.022647  65.026165  223.074562  8.579791    461    29   \n",
       "3  1.388729  ...  10.250228  70.773493  266.069142  8.868971    735    35   \n",
       "4  1.320465  ...  10.233043  79.537169  415.183067  7.548783   2674    45   \n",
       "\n",
       "   Zagreb1  Zagreb2  mZagreb1  mZagreb2  \n",
       "0      100      119  7.777778  4.666667  \n",
       "1       82       96  6.166667  3.583333  \n",
       "2       98      121  3.416667  3.638889  \n",
       "3      120      150  3.888889  4.166667  \n",
       "4      156      182  8.500000  6.694444  \n",
       "\n",
       "[5 rows x 1614 columns]"
      ]
     },
     "execution_count": 9,
     "metadata": {},
     "output_type": "execute_result"
    }
   ],
   "source": [
    "train[:5]"
   ]
  },
  {
   "cell_type": "code",
   "execution_count": 10,
   "metadata": {},
   "outputs": [],
   "source": [
    "import torch\n",
    "import torch.nn as nn"
   ]
  },
  {
   "cell_type": "code",
   "execution_count": 12,
   "metadata": {},
   "outputs": [],
   "source": [
    "class Autoencoder(nn.Module):\n",
    "    \n",
    "    def __init__(self, input_size, encoding_dim):\n",
    "        \n",
    "        super(Autoencoder, self).__init__()\n",
    "        \n",
    "        self.encoder = nn.Sequential(\n",
    "            nn.Linear(input_size, 800),\n",
    "            nn.ReLU(),\n",
    "            nn.Linear(800,400),\n",
    "            nn.ReLU(),\n",
    "            nn.Linear(400,128),\n",
    "            nn.ReLU(),\n",
    "            nn.Linear(128,64),\n",
    "            nn.ReLU(),\n",
    "            nn.Linear(64,32),\n",
    "            nn.ReLU(),\n",
    "            nn.Linear(32,16)\n",
    "        )\n",
    "        \n",
    "        self.decoder = nn.Sequential(\n",
    "            nn.Linear(16,32),\n",
    "            nn.ReLU(),\n",
    "        )\n",
    "\n",
    "    def forward(self, x):\n",
    "        \n",
    "        encoded = self.encoder(x)\n",
    "        decoded = self.decoder(encoded)\n",
    "        \n",
    "        return encoded, decoded"
   ]
  },
  {
   "cell_type": "markdown",
   "metadata": {},
   "source": [
    "Request info on why ABC, ABCGG,nAcid,nBase are 0"
   ]
  },
  {
   "cell_type": "code",
   "execution_count": 8,
   "metadata": {},
   "outputs": [
    {
     "ename": "SyntaxError",
     "evalue": "invalid decimal literal (4279969320.py, line 4)",
     "output_type": "error",
     "traceback": [
      "\u001b[0;36m  Cell \u001b[0;32mIn[8], line 4\u001b[0;36m\u001b[0m\n\u001b[0;31m    class 1dCNN(nn.Module):\u001b[0m\n\u001b[0m          ^\u001b[0m\n\u001b[0;31mSyntaxError\u001b[0m\u001b[0;31m:\u001b[0m invalid decimal literal\n"
     ]
    }
   ],
   "source": [
    "class cnn(nn.Module):\n",
    "    \n",
    "    def __init__(self,input_size,num_classes):\n",
    "        drop_per=0.05\n",
    "        super(cnn,self)\n",
    "        \n",
    "        # 1st convolution\n",
    "        self.conv1d1 = nn.Conv1d(in_channels=input_size,out_channels=800,kernel_size=3)\n",
    "        self.relu1 = nn.ReLU()\n",
    "        self.maxpool1 = nn.MaxPool1d(kernel_size=3)\n",
    "        self.dropout1 = nn.Dropout(p=drop_per)\n",
    "        \n",
    "        # 2nd convolution \n",
    "        self.conv1d2 = nn.Conv1d(in_channels=64,out_channels=,kernel_size=3)\n",
    "        self.relu2 = nn.ReLU()\n",
    "        self.maxpool2 = nn.MaxPool1d(kernel_size=3)\n",
    "        self.dropout2 = nn.Dropout(p=drop_per)"
   ]
  }
 ],
 "metadata": {
  "kernelspec": {
   "display_name": "tf",
   "language": "python",
   "name": "python3"
  },
  "language_info": {
   "codemirror_mode": {
    "name": "ipython",
    "version": 3
   },
   "file_extension": ".py",
   "mimetype": "text/x-python",
   "name": "python",
   "nbconvert_exporter": "python",
   "pygments_lexer": "ipython3",
   "version": "3.11.4"
  },
  "orig_nbformat": 4
 },
 "nbformat": 4,
 "nbformat_minor": 2
}
